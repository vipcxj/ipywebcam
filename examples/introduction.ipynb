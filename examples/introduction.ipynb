{
 "cells": [
  {
   "cell_type": "markdown",
   "metadata": {},
   "source": [
    "# Introduction"
   ]
  },
  {
   "cell_type": "code",
   "execution_count": 2,
   "metadata": {},
   "outputs": [],
   "source": [
    "from ipywebcam import WebCamWidget"
   ]
  },
  {
   "cell_type": "code",
   "execution_count": 3,
   "metadata": {},
   "outputs": [],
   "source": [
    "w = WebCamWidget(constraints={\"audio\": True, \"video\": True})"
   ]
  },
  {
   "cell_type": "code",
   "execution_count": 4,
   "metadata": {
    "tags": []
   },
   "outputs": [
    {
     "data": {
      "application/vnd.jupyter.widget-view+json": {
       "model_id": "7411913e53b64196b82955ccf3efcfd8",
       "version_major": 2,
       "version_minor": 0
      },
      "text/plain": [
       "Dropdown(description='Video codec', options=('video/VP8', 'video/H264 level-asymmetry-allowed=1;packetization-…"
      ]
     },
     "metadata": {},
     "output_type": "display_data"
    }
   ],
   "source": [
    "w.video_codec_selector"
   ]
  },
  {
   "cell_type": "code",
   "execution_count": 5,
   "metadata": {
    "tags": []
   },
   "outputs": [
    {
     "data": {
      "application/vnd.jupyter.widget-view+json": {
       "model_id": "e817408346664fe78917dc2505aac91e",
       "version_major": 2,
       "version_minor": 0
      },
      "text/plain": [
       "Dropdown(description='Audio input device', options=(('默认 - 麦克风 (VIA HD Audio(Win 10))', {'deviceId': 'default'…"
      ]
     },
     "metadata": {},
     "output_type": "display_data"
    }
   ],
   "source": [
    "w.audio_input_selector"
   ]
  },
  {
   "cell_type": "code",
   "execution_count": 6,
   "metadata": {
    "tags": []
   },
   "outputs": [
    {
     "data": {
      "application/vnd.jupyter.widget-view+json": {
       "model_id": "6a56cf68d809413fba26911a40e6cf42",
       "version_major": 2,
       "version_minor": 0
      },
      "text/plain": [
       "WebCamWidget(audio_input_device={'deviceId': 'default', 'kind': 'audioinput', 'label': '默认 - 麦克风 (VIA HD Audio…"
      ]
     },
     "metadata": {},
     "output_type": "display_data"
    }
   ],
   "source": [
    "w"
   ]
  },
  {
   "cell_type": "code",
   "execution_count": 7,
   "metadata": {},
   "outputs": [
    {
     "data": {
      "application/vnd.jupyter.widget-view+json": {
       "model_id": "e817408346664fe78917dc2505aac91e",
       "version_major": 2,
       "version_minor": 0
      },
      "text/plain": [
       "Dropdown(description='Audio input device', options=(('默认 - 麦克风 (VIA HD Audio(Win 10))', {'deviceId': 'default'…"
      ]
     },
     "metadata": {},
     "output_type": "display_data"
    }
   ],
   "source": [
    "w.audio_input_selector"
   ]
  },
  {
   "cell_type": "code",
   "execution_count": 8,
   "metadata": {},
   "outputs": [
    {
     "data": {
      "text/plain": [
       "[{'deviceId': 'default',\n",
       "  'kind': 'audioinput',\n",
       "  'label': '默认 - 麦克风 (VIA HD Audio(Win 10))',\n",
       "  'groupId': 'ba58835e0d4c7966dfec1fd3aba0d520b31ab72e8c853e8e36e8ce23e57edfa4'},\n",
       " {'deviceId': 'communications',\n",
       "  'kind': 'audioinput',\n",
       "  'label': '通讯 - 麦克风 (VIA HD Audio(Win 10))',\n",
       "  'groupId': 'ba58835e0d4c7966dfec1fd3aba0d520b31ab72e8c853e8e36e8ce23e57edfa4'},\n",
       " {'deviceId': 'd59961d05ec0043af5559a09a38f93eefcac77a6df29159191b82e62ab6cf2ea',\n",
       "  'kind': 'audioinput',\n",
       "  'label': '麦克风 (VIA HD Audio(Win 10))',\n",
       "  'groupId': 'ba58835e0d4c7966dfec1fd3aba0d520b31ab72e8c853e8e36e8ce23e57edfa4'}]"
      ]
     },
     "execution_count": 8,
     "metadata": {},
     "output_type": "execute_result"
    }
   ],
   "source": [
    "w.audio_input_devices"
   ]
  },
  {
   "cell_type": "code",
   "execution_count": 9,
   "metadata": {},
   "outputs": [
    {
     "data": {
      "text/plain": [
       "{'deviceId': 'default',\n",
       " 'kind': 'audioinput',\n",
       " 'label': '默认 - 麦克风 (VIA HD Audio(Win 10))',\n",
       " 'groupId': 'ba58835e0d4c7966dfec1fd3aba0d520b31ab72e8c853e8e36e8ce23e57edfa4'}"
      ]
     },
     "execution_count": 9,
     "metadata": {},
     "output_type": "execute_result"
    }
   ],
   "source": [
    "w.audio_input_device"
   ]
  },
  {
   "cell_type": "code",
   "execution_count": 13,
   "metadata": {},
   "outputs": [],
   "source": [
    "import cv2\n",
    "from av import VideoFrame\n",
    "async def transform(frame, ctx):\n",
    "    img = frame.to_ndarray(format=\"bgr24\")\n",
    "    # prepare color\n",
    "    img_color = cv2.pyrDown(cv2.pyrDown(img))\n",
    "    for _ in range(6):\n",
    "        img_color = cv2.bilateralFilter(img_color, 9, 9, 7)\n",
    "    img_color = cv2.pyrUp(cv2.pyrUp(img_color))\n",
    "\n",
    "    # prepare edges\n",
    "    img_edges = cv2.cvtColor(img, cv2.COLOR_RGB2GRAY)\n",
    "    img_edges = cv2.adaptiveThreshold(\n",
    "        cv2.medianBlur(img_edges, 7),\n",
    "        255,\n",
    "        cv2.ADAPTIVE_THRESH_MEAN_C,\n",
    "        cv2.THRESH_BINARY,\n",
    "        9,\n",
    "        2,\n",
    "    )\n",
    "    img_edges = cv2.cvtColor(img_edges, cv2.COLOR_GRAY2RGB)\n",
    "\n",
    "    # combine color and edges\n",
    "    img = cv2.bitwise_and(img_color, img_edges)\n",
    "\n",
    "    # rebuild a VideoFrame, preserving timing information\n",
    "    new_frame = VideoFrame.from_ndarray(img, format=\"bgr24\")\n",
    "    new_frame.pts = frame.pts\n",
    "    new_frame.time_base = frame.time_base\n",
    "    return new_frame\n",
    "\n",
    "transformer = w.add_video_transformer(transform)"
   ]
  },
  {
   "cell_type": "code",
   "execution_count": 12,
   "metadata": {},
   "outputs": [],
   "source": [
    "w.remove_video_transformer(transformer)"
   ]
  },
  {
   "cell_type": "code",
   "execution_count": null,
   "metadata": {},
   "outputs": [],
   "source": []
  }
 ],
 "metadata": {
  "kernelspec": {
   "display_name": "Python 3 (ipykernel)",
   "language": "python",
   "name": "python3"
  },
  "language_info": {
   "codemirror_mode": {
    "name": "ipython",
    "version": 3
   },
   "file_extension": ".py",
   "mimetype": "text/x-python",
   "name": "python",
   "nbconvert_exporter": "python",
   "pygments_lexer": "ipython3",
   "version": "3.10.8"
  }
 },
 "nbformat": 4,
 "nbformat_minor": 4
}
