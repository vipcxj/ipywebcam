{
 "cells": [
  {
   "cell_type": "markdown",
   "metadata": {},
   "source": [
    "# Introduction"
   ]
  },
  {
   "cell_type": "code",
   "execution_count": 1,
   "metadata": {},
   "outputs": [],
   "source": [
    "from ipywebcam import WebCamWidget, WebCamRecorder, Record, FileListFactory"
   ]
  },
  {
   "cell_type": "code",
   "execution_count": 2,
   "metadata": {},
   "outputs": [],
   "source": [
    "factory = FileListFactory(\"test\", \"$i4-$Y-$m-$d-$H-${M}-${S}-$f-$uh6.mp4\", condition=FileListFactory.create_frame_based_condition(100))"
   ]
  },
  {
   "cell_type": "code",
   "execution_count": 3,
   "metadata": {},
   "outputs": [
    {
     "data": {
      "application/vnd.jupyter.widget-view+json": {
       "model_id": "2dec6838ba04452eab4c8c2f2ed16fb7",
       "version_major": 2,
       "version_minor": 0
      },
      "text/plain": [
       "WebCamWidget(constraints={'video': {'frameRate': {'max': 10}, 'width': 256, 'height': 192}}, iceServers=[{'url…"
      ]
     },
     "execution_count": 3,
     "metadata": {},
     "output_type": "execute_result"
    }
   ],
   "source": [
    "w = WebCamWidget(\n",
    "    iceServers=[{\"urls\": \"turn:190.92.221.222\", \"username\": \"admin\", \"credential\": \"123456\"}],\n",
    "    constraints={\n",
    "        \"video\": {\n",
    "            \"frameRate\": { \"max\": 10 },\n",
    "            \"width\": 256,\n",
    "            \"height\": 192,\n",
    "        },\n",
    "    },\n",
    ")\n",
    "w"
   ]
  },
  {
   "cell_type": "code",
   "execution_count": 8,
   "metadata": {},
   "outputs": [
    {
     "name": "stdout",
     "output_type": "stream",
     "text": [
      "load 3 records\n"
     ]
    }
   ],
   "source": [
    "recorder = WebCamRecorder(w, factory)\n",
    "recorder.start()"
   ]
  },
  {
   "cell_type": "code",
   "execution_count": 9,
   "metadata": {},
   "outputs": [],
   "source": [
    "import cv2\n",
    "from av import VideoFrame\n",
    "async def transform(frame, ctx):\n",
    "    img = frame.to_ndarray(format=\"bgr24\")\n",
    "    # prepare color\n",
    "    img_color = cv2.pyrDown(cv2.pyrDown(img))\n",
    "    for _ in range(6):\n",
    "        img_color = cv2.bilateralFilter(img_color, 9, 9, 7)\n",
    "    img_color = cv2.pyrUp(cv2.pyrUp(img_color))\n",
    "\n",
    "    # prepare edges\n",
    "    img_edges = cv2.cvtColor(img, cv2.COLOR_RGB2GRAY)\n",
    "    img_edges = cv2.adaptiveThreshold(\n",
    "        cv2.medianBlur(img_edges, 7),\n",
    "        255,\n",
    "        cv2.ADAPTIVE_THRESH_MEAN_C,\n",
    "        cv2.THRESH_BINARY,\n",
    "        9,\n",
    "        2,\n",
    "    )\n",
    "    img_edges = cv2.cvtColor(img_edges, cv2.COLOR_GRAY2RGB)\n",
    "\n",
    "    # combine color and edges\n",
    "    img = cv2.bitwise_and(img_color, img_edges)\n",
    "\n",
    "    # rebuild a VideoFrame, preserving timing information\n",
    "    new_frame = VideoFrame.from_ndarray(img, format=\"bgr24\")\n",
    "    # new_frame.pts = frame.pts\n",
    "    # new_frame.time_base = frame.time_base\n",
    "    return new_frame\n",
    "\n",
    "transformer = w.add_video_transformer(transform)"
   ]
  },
  {
   "cell_type": "code",
   "execution_count": 10,
   "metadata": {},
   "outputs": [],
   "source": [
    "w.remove_video_transformer(transformer)"
   ]
  },
  {
   "cell_type": "code",
   "execution_count": 11,
   "metadata": {},
   "outputs": [],
   "source": [
    "recorder.stop()"
   ]
  },
  {
   "cell_type": "code",
   "execution_count": 8,
   "metadata": {},
   "outputs": [],
   "source": [
    "w.close_peers()"
   ]
  },
  {
   "cell_type": "code",
   "execution_count": null,
   "metadata": {},
   "outputs": [],
   "source": []
  }
 ],
 "metadata": {
  "kernelspec": {
   "display_name": "Python 3 (ipykernel)",
   "language": "python",
   "name": "python3"
  },
  "language_info": {
   "codemirror_mode": {
    "name": "ipython",
    "version": 3
   },
   "file_extension": ".py",
   "mimetype": "text/x-python",
   "name": "python",
   "nbconvert_exporter": "python",
   "pygments_lexer": "ipython3",
   "version": "3.10.8"
  }
 },
 "nbformat": 4,
 "nbformat_minor": 4
}
