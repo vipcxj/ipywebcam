{
 "cells": [
  {
   "cell_type": "markdown",
   "metadata": {},
   "source": [
    "# Introduction"
   ]
  },
  {
   "cell_type": "code",
   "execution_count": 1,
   "metadata": {},
   "outputs": [],
   "source": [
    "from ipywebcam import WebCamWidget, WebCamRecorder, Record, RecordFactory"
   ]
  },
  {
   "cell_type": "code",
   "execution_count": 2,
   "metadata": {},
   "outputs": [],
   "source": [
    "factory = RecordFactory(\"test\", \"$i4-$Y-$m-$d-$H-${M}-${S}-$f-$uh6.mp4\")"
   ]
  },
  {
   "cell_type": "code",
   "execution_count": 6,
   "metadata": {},
   "outputs": [
    {
     "name": "stdout",
     "output_type": "stream",
     "text": [
      "0000-2023-02-03-18-15-33-797070-eee68c.mp4?format=f4&options.a=1&options.b=True\n"
     ]
    }
   ],
   "source": [
    "record = Record(factory=factory, file=factory.generate(0), format=\"f4\", options={\"a\": 1, \"b\": True})\n",
    "print(record)"
   ]
  },
  {
   "cell_type": "code",
   "execution_count": 4,
   "metadata": {},
   "outputs": [
    {
     "name": "stdout",
     "output_type": "stream",
     "text": [
      "0000-2023-02-03-18-14-41-826274-b143c8.mp4?format=f4&options.a=1&options.b=True\n"
     ]
    }
   ],
   "source": [
    "record_cp = Record.of(record.factory, str(record))\n",
    "print(record_cp)"
   ]
  },
  {
   "cell_type": "code",
   "execution_count": 3,
   "metadata": {},
   "outputs": [
    {
     "data": {
      "text/plain": [
       "'034'"
      ]
     },
     "execution_count": 3,
     "metadata": {},
     "output_type": "execute_result"
    }
   ],
   "source": [
    "f\"{{index:0{3}}}\".format(index=34)"
   ]
  },
  {
   "cell_type": "code",
   "execution_count": 4,
   "metadata": {},
   "outputs": [
    {
     "data": {
      "text/plain": [
       "'0003-2023-02-02-20-02-59-328171-e54690.mp4'"
      ]
     },
     "execution_count": 4,
     "metadata": {},
     "output_type": "execute_result"
    }
   ],
   "source": [
    "ruler.generate(3)"
   ]
  },
  {
   "cell_type": "code",
   "execution_count": 7,
   "metadata": {},
   "outputs": [
    {
     "data": {
      "text/plain": [
       "False"
      ]
     },
     "execution_count": 7,
     "metadata": {},
     "output_type": "execute_result"
    }
   ],
   "source": [
    "import re\n",
    "not re.match(ruler.to_reg(3), '0003-2023-02-02-20-02-59-328171-e54690.mp4')"
   ]
  },
  {
   "cell_type": "code",
   "execution_count": 2,
   "metadata": {},
   "outputs": [
    {
     "data": {
      "application/vnd.jupyter.widget-view+json": {
       "model_id": "542a8e89eab747aab9324278f9513c91",
       "version_major": 2,
       "version_minor": 0
      },
      "text/plain": [
       "WebCamWidget(constraints={'video': {'frameRate': {'max': 10}, 'width': 256, 'height': 192}}, iceServers=[{'url…"
      ]
     },
     "execution_count": 2,
     "metadata": {},
     "output_type": "execute_result"
    }
   ],
   "source": [
    "w = WebCamWidget(\n",
    "    iceServers=[{\"urls\": \"turn:190.92.221.222\", \"username\": \"admin\", \"credential\": \"123456\"}],\n",
    "    constraints={\n",
    "        \"video\": {\n",
    "            \"frameRate\": { \"max\": 10 },\n",
    "            \"width\": 256,\n",
    "            \"height\": 192,\n",
    "        },\n",
    "    },\n",
    ")\n",
    "w"
   ]
  },
  {
   "cell_type": "code",
   "execution_count": 3,
   "metadata": {
    "tags": []
   },
   "outputs": [
    {
     "data": {
      "text/plain": [
       "'798221879d265b08da49754fb3f1db1670548e633067d0633ca7a71fcc980560'"
      ]
     },
     "execution_count": 3,
     "metadata": {},
     "output_type": "execute_result"
    }
   ],
   "source": [
    "w.video_input_device_id"
   ]
  },
  {
   "cell_type": "code",
   "execution_count": 4,
   "metadata": {
    "tags": []
   },
   "outputs": [
    {
     "data": {
      "application/vnd.jupyter.widget-view+json": {
       "model_id": "9b08b276d7694dfda7f61afb829919ef",
       "version_major": 2,
       "version_minor": 0
      },
      "text/plain": [
       "Dropdown(description='Video Input', options=(), value=None)"
      ]
     },
     "execution_count": 4,
     "metadata": {},
     "output_type": "execute_result"
    }
   ],
   "source": [
    "w.video_input_selector"
   ]
  },
  {
   "cell_type": "code",
   "execution_count": 5,
   "metadata": {
    "tags": []
   },
   "outputs": [
    {
     "data": {
      "application/vnd.jupyter.widget-view+json": {
       "model_id": "90832b8b53f640fca4955eac1212ccb1",
       "version_major": 2,
       "version_minor": 0
      },
      "text/plain": [
       "Dropdown(description='Audio Input', options=(), value=None)"
      ]
     },
     "execution_count": 5,
     "metadata": {},
     "output_type": "execute_result"
    }
   ],
   "source": [
    "w.audio_input_selector"
   ]
  },
  {
   "cell_type": "code",
   "execution_count": 6,
   "metadata": {},
   "outputs": [
    {
     "data": {
      "application/vnd.jupyter.widget-view+json": {
       "model_id": "8ac8f5e382f145d7930e1fc5a8f1ec3b",
       "version_major": 2,
       "version_minor": 0
      },
      "text/plain": [
       "Dropdown(description='Audio Output', options=(), value=None)"
      ]
     },
     "execution_count": 6,
     "metadata": {},
     "output_type": "execute_result"
    }
   ],
   "source": [
    "w.audio_output_selector"
   ]
  },
  {
   "cell_type": "code",
   "execution_count": 7,
   "metadata": {},
   "outputs": [],
   "source": [
    "w.audio_output_device_id"
   ]
  },
  {
   "cell_type": "code",
   "execution_count": 8,
   "metadata": {},
   "outputs": [],
   "source": [
    "recorder = WebCamRecorder(w, 'camera.mp4')\n",
    "recorder.start()"
   ]
  },
  {
   "cell_type": "code",
   "execution_count": 9,
   "metadata": {},
   "outputs": [],
   "source": [
    "import cv2\n",
    "from av import VideoFrame\n",
    "async def transform(frame, ctx):\n",
    "    img = frame.to_ndarray(format=\"bgr24\")\n",
    "    # prepare color\n",
    "    img_color = cv2.pyrDown(cv2.pyrDown(img))\n",
    "    for _ in range(6):\n",
    "        img_color = cv2.bilateralFilter(img_color, 9, 9, 7)\n",
    "    img_color = cv2.pyrUp(cv2.pyrUp(img_color))\n",
    "\n",
    "    # prepare edges\n",
    "    img_edges = cv2.cvtColor(img, cv2.COLOR_RGB2GRAY)\n",
    "    img_edges = cv2.adaptiveThreshold(\n",
    "        cv2.medianBlur(img_edges, 7),\n",
    "        255,\n",
    "        cv2.ADAPTIVE_THRESH_MEAN_C,\n",
    "        cv2.THRESH_BINARY,\n",
    "        9,\n",
    "        2,\n",
    "    )\n",
    "    img_edges = cv2.cvtColor(img_edges, cv2.COLOR_GRAY2RGB)\n",
    "\n",
    "    # combine color and edges\n",
    "    img = cv2.bitwise_and(img_color, img_edges)\n",
    "\n",
    "    # rebuild a VideoFrame, preserving timing information\n",
    "    new_frame = VideoFrame.from_ndarray(img, format=\"bgr24\")\n",
    "    # new_frame.pts = frame.pts\n",
    "    # new_frame.time_base = frame.time_base\n",
    "    return new_frame\n",
    "\n",
    "transformer = w.add_video_transformer(transform)"
   ]
  },
  {
   "cell_type": "code",
   "execution_count": 10,
   "metadata": {},
   "outputs": [],
   "source": [
    "w.remove_video_transformer(transformer)"
   ]
  },
  {
   "cell_type": "code",
   "execution_count": 11,
   "metadata": {},
   "outputs": [],
   "source": [
    "recorder.stop()"
   ]
  },
  {
   "cell_type": "code",
   "execution_count": 12,
   "metadata": {},
   "outputs": [],
   "source": [
    "w.close_peers()"
   ]
  },
  {
   "cell_type": "code",
   "execution_count": null,
   "metadata": {},
   "outputs": [],
   "source": []
  }
 ],
 "metadata": {
  "kernelspec": {
   "display_name": "Python 3 (ipykernel)",
   "language": "python",
   "name": "python3"
  },
  "language_info": {
   "codemirror_mode": {
    "name": "ipython",
    "version": 3
   },
   "file_extension": ".py",
   "mimetype": "text/x-python",
   "name": "python",
   "nbconvert_exporter": "python",
   "pygments_lexer": "ipython3",
   "version": "3.10.8"
  }
 },
 "nbformat": 4,
 "nbformat_minor": 4
}
