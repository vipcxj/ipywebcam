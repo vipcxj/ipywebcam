{
 "cells": [
  {
   "cell_type": "markdown",
   "metadata": {},
   "source": [
    "# Introduction"
   ]
  },
  {
   "cell_type": "code",
   "execution_count": 1,
   "metadata": {},
   "outputs": [],
   "source": [
    "from ipywebcam import WebCamWidget"
   ]
  },
  {
   "cell_type": "code",
   "execution_count": 2,
   "metadata": {},
   "outputs": [
    {
     "data": {
      "application/vnd.jupyter.widget-view+json": {
       "model_id": "6ed26f19888e440bb6169d3f5f1c747e",
       "version_major": 2,
       "version_minor": 0
      },
      "text/plain": [
       "WebCamWidget(iceServers=[{'urls': 'turn:190.92.221.222', 'username': 'admin', 'credential': '123456'}])"
      ]
     },
     "metadata": {},
     "output_type": "display_data"
    },
    {
     "name": "stdout",
     "output_type": "stream",
     "text": [
      "<class 'ipywebcam.webcam.WebCamWidget'>\n"
     ]
    }
   ],
   "source": [
    "w = WebCamWidget(iceServers=[{\"urls\": \"turn:190.92.221.222\", \"username\": \"admin\", \"credential\": \"123456\"}])\n",
    "w"
   ]
  },
  {
   "cell_type": "code",
   "execution_count": 5,
   "metadata": {
    "tags": []
   },
   "outputs": [
    {
     "data": {
      "application/vnd.jupyter.widget-view+json": {
       "model_id": "dde8d3dc7c774720a4c0259019ec09df",
       "version_major": 2,
       "version_minor": 0
      },
      "text/plain": [
       "Dropdown(description='Video codec', options=('video/VP8', 'video/H264 level-asymmetry-allowed=1;packetization-…"
      ]
     },
     "metadata": {},
     "output_type": "display_data"
    }
   ],
   "source": [
    "w.video_codec_selector"
   ]
  },
  {
   "cell_type": "code",
   "execution_count": 6,
   "metadata": {
    "tags": []
   },
   "outputs": [
    {
     "data": {
      "application/vnd.jupyter.widget-view+json": {
       "model_id": "927589d2387c48108183dfe9332ab0b2",
       "version_major": 2,
       "version_minor": 0
      },
      "text/plain": [
       "Dropdown(description='Audio input device', options=(('默认 - 麦克风 (VIA HD Audio(Win 10))', {'deviceId': 'default'…"
      ]
     },
     "metadata": {},
     "output_type": "display_data"
    }
   ],
   "source": [
    "w.audio_input_selector"
   ]
  },
  {
   "cell_type": "code",
   "execution_count": 3,
   "metadata": {
    "tags": []
   },
   "outputs": [
    {
     "data": {
      "application/vnd.jupyter.widget-view+json": {
       "model_id": "99610ae5cb44429c82c5a713b1c0d6cc",
       "version_major": 2,
       "version_minor": 0
      },
      "text/plain": [
       "WebCamWidget(audio_input_device={'deviceId': 'default', 'kind': 'audioinput', 'label': '默认 - 麦克风 (VIA HD Audio…"
      ]
     },
     "metadata": {},
     "output_type": "display_data"
    },
    {
     "name": "stdout",
     "output_type": "stream",
     "text": [
      "WebCamWidget(audio_input_device={'deviceId': 'default', 'kind': 'audioinput', 'label': '默认 - 麦克风 (VIA HD Audio(Win 10))', 'groupId': '08d3222b6fd960cb7d516ab85b28de0b2b639f9cb1d613035128801f131ed1e2'}, audio_input_devices=[{'deviceId': 'default', 'kind': 'audioinput', 'label': '默认 - 麦克风 (VIA HD Audio(Win 10))', 'groupId': '08d3222b6fd960cb7d516ab85b28de0b2b639f9cb1d613035128801f131ed1e2'}, {'deviceId': 'communications', 'kind': 'audioinput', 'label': '通讯 - 麦克风 (VIA HD Audio(Win 10))', 'groupId': '08d3222b6fd960cb7d516ab85b28de0b2b639f9cb1d613035128801f131ed1e2'}, {'deviceId': 'd59961d05ec0043af5559a09a38f93eefcac77a6df29159191b82e62ab6cf2ea', 'kind': 'audioinput', 'label': '麦克风 (VIA HD Audio(Win 10))', 'groupId': '08d3222b6fd960cb7d516ab85b28de0b2b639f9cb1d613035128801f131ed1e2'}], audio_output_device={'deviceId': 'default', 'kind': 'audiooutput', 'label': '默认 - 扬声器 (VIA HD Audio(Win 10))', 'groupId': '08d3222b6fd960cb7d516ab85b28de0b2b639f9cb1d613035128801f131ed1e2'}, audio_output_devices=[{'deviceId': 'default', 'kind': 'audiooutput', 'label': '默认 - 扬声器 (VIA HD Audio(Win 10))', 'groupId': '08d3222b6fd960cb7d516ab85b28de0b2b639f9cb1d613035128801f131ed1e2'}, {'deviceId': 'communications', 'kind': 'audiooutput', 'label': '通讯 - 扬声器 (VIA HD Audio(Win 10))', 'groupId': '08d3222b6fd960cb7d516ab85b28de0b2b639f9cb1d613035128801f131ed1e2'}, {'deviceId': 'cc79367d5ba91b8ac7174860310adcdfec43be39dd499874c19c0ab918006ff4', 'kind': 'audiooutput', 'label': '扬声器 (VIA HD Audio(Win 10))', 'groupId': '08d3222b6fd960cb7d516ab85b28de0b2b639f9cb1d613035128801f131ed1e2'}, {'deviceId': '7a897293d8a06fea0b589dcabdc1e03a8b7c4a892f4575204d6e79cb44932b4d', 'kind': 'audiooutput', 'label': 'SPDIF Interface (TX0) (VIA HD Audio(Win 10))', 'groupId': '2e620e9711dc5e4963fa6f4499050ff2ff2bd5b6f03ebb39be66ee257b670fcc'}], client_desc={'type': 'offer', 'sdp': 'v=0\\r\\no=- 5221857914559571979 2 IN IP4 127.0.0.1\\r\\ns=-\\r\\nt=0 0\\r\\na=group:BUNDLE 0\\r\\na=extmap-allow-mixed\\r\\na=msid-semantic: WMS bby7hZDljBDL1jM65HGN24erlpW5hZB3jExJ\\r\\nm=video 57968 UDP/TLS/RTP/SAVPF 96 97 102 122 127 121 125 107 108 109 124 120 39 40 45 46 98 99 100 101 123 119 114 115 116\\r\\nc=IN IP4 190.92.221.222\\r\\na=rtcp:9 IN IP4 0.0.0.0\\r\\na=candidate:3544526928 1 udp 2122260223 192.168.0.197 57227 typ host generation 0 network-id 1\\r\\na=candidate:3527754358 1 udp 1686052607 114.88.36.245 57227 typ srflx raddr 192.168.0.197 rport 57227 generation 0 network-id 1\\r\\na=candidate:2911556296 1 tcp 1518280447 192.168.0.197 9 typ host tcptype active generation 0 network-id 1\\r\\na=candidate:423020535 1 udp 41885439 190.92.221.222 57968 typ relay raddr 114.88.36.245 rport 57227 generation 0 network-id 1\\r\\na=ice-ufrag:A9cx\\r\\na=ice-pwd:HpK9OuYNnQXoSOcNgE5kZDfs\\r\\na=ice-options:trickle\\r\\na=fingerprint:sha-256 2E:CA:8B:1C:F3:B8:32:EE:04:69:F4:35:D5:4F:D4:2C:2E:C2:CD:03:97:6D:3F:C7:4F:29:D5:DA:60:FB:BB:1E\\r\\na=setup:actpass\\r\\na=mid:0\\r\\na=extmap:1 urn:ietf:params:rtp-hdrext:toffset\\r\\na=extmap:2 http://www.webrtc.org/experiments/rtp-hdrext/abs-send-time\\r\\na=extmap:3 urn:3gpp:video-orientation\\r\\na=extmap:4 http://www.ietf.org/id/draft-holmer-rmcat-transport-wide-cc-extensions-01\\r\\na=extmap:5 http://www.webrtc.org/experiments/rtp-hdrext/playout-delay\\r\\na=extmap:6 http://www.webrtc.org/experiments/rtp-hdrext/video-content-type\\r\\na=extmap:7 http://www.webrtc.org/experiments/rtp-hdrext/video-timing\\r\\na=extmap:8 http://www.webrtc.org/experiments/rtp-hdrext/color-space\\r\\na=extmap:9 urn:ietf:params:rtp-hdrext:sdes:mid\\r\\na=extmap:10 urn:ietf:params:rtp-hdrext:sdes:rtp-stream-id\\r\\na=extmap:11 urn:ietf:params:rtp-hdrext:sdes:repaired-rtp-stream-id\\r\\na=sendrecv\\r\\na=msid:bby7hZDljBDL1jM65HGN24erlpW5hZB3jExJ 477ed67c-f394-4561-a43d-b4d08115e90b\\r\\na=rtcp-mux\\r\\na=rtcp-rsize\\r\\na=rtpmap:96 VP8/90000\\r\\na=rtcp-fb:96 goog-remb\\r\\na=rtcp-fb:96 transport-cc\\r\\na=rtcp-fb:96 ccm fir\\r\\na=rtcp-fb:96 nack\\r\\na=rtcp-fb:96 nack pli\\r\\na=rtpmap:97 rtx/90000\\r\\na=fmtp:97 apt=96\\r\\na=rtpmap:102 H264/90000\\r\\na=rtcp-fb:102 goog-remb\\r\\na=rtcp-fb:102 transport-cc\\r\\na=rtcp-fb:102 ccm fir\\r\\na=rtcp-fb:102 nack\\r\\na=rtcp-fb:102 nack pli\\r\\na=fmtp:102 level-asymmetry-allowed=1;packetization-mode=1;profile-level-id=42001f\\r\\na=rtpmap:122 rtx/90000\\r\\na=fmtp:122 apt=102\\r\\na=rtpmap:127 H264/90000\\r\\na=rtcp-fb:127 goog-remb\\r\\na=rtcp-fb:127 transport-cc\\r\\na=rtcp-fb:127 ccm fir\\r\\na=rtcp-fb:127 nack\\r\\na=rtcp-fb:127 nack pli\\r\\na=fmtp:127 level-asymmetry-allowed=1;packetization-mode=0;profile-level-id=42001f\\r\\na=rtpmap:121 rtx/90000\\r\\na=fmtp:121 apt=127\\r\\na=rtpmap:125 H264/90000\\r\\na=rtcp-fb:125 goog-remb\\r\\na=rtcp-fb:125 transport-cc\\r\\na=rtcp-fb:125 ccm fir\\r\\na=rtcp-fb:125 nack\\r\\na=rtcp-fb:125 nack pli\\r\\na=fmtp:125 level-asymmetry-allowed=1;packetization-mode=1;profile-level-id=42e01f\\r\\na=rtpmap:107 rtx/90000\\r\\na=fmtp:107 apt=125\\r\\na=rtpmap:108 H264/90000\\r\\na=rtcp-fb:108 goog-remb\\r\\na=rtcp-fb:108 transport-cc\\r\\na=rtcp-fb:108 ccm fir\\r\\na=rtcp-fb:108 nack\\r\\na=rtcp-fb:108 nack pli\\r\\na=fmtp:108 level-asymmetry-allowed=1;packetization-mode=0;profile-level-id=42e01f\\r\\na=rtpmap:109 rtx/90000\\r\\na=fmtp:109 apt=108\\r\\na=rtpmap:124 H264/90000\\r\\na=rtcp-fb:124 goog-remb\\r\\na=rtcp-fb:124 transport-cc\\r\\na=rtcp-fb:124 ccm fir\\r\\na=rtcp-fb:124 nack\\r\\na=rtcp-fb:124 nack pli\\r\\na=fmtp:124 level-asymmetry-allowed=1;packetization-mode=1;profile-level-id=4d001f\\r\\na=rtpmap:120 rtx/90000\\r\\na=fmtp:120 apt=124\\r\\na=rtpmap:39 H264/90000\\r\\na=rtcp-fb:39 goog-remb\\r\\na=rtcp-fb:39 transport-cc\\r\\na=rtcp-fb:39 ccm fir\\r\\na=rtcp-fb:39 nack\\r\\na=rtcp-fb:39 nack pli\\r\\na=fmtp:39 level-asymmetry-allowed=1;packetization-mode=0;profile-level-id=4d001f\\r\\na=rtpmap:40 rtx/90000\\r\\na=fmtp:40 apt=39\\r\\na=rtpmap:45 AV1/90000\\r\\na=rtcp-fb:45 goog-remb\\r\\na=rtcp-fb:45 transport-cc\\r\\na=rtcp-fb:45 ccm fir\\r\\na=rtcp-fb:45 nack\\r\\na=rtcp-fb:45 nack pli\\r\\na=rtpmap:46 rtx/90000\\r\\na=fmtp:46 apt=45\\r\\na=rtpmap:98 VP9/90000\\r\\na=rtcp-fb:98 goog-remb\\r\\na=rtcp-fb:98 transport-cc\\r\\na=rtcp-fb:98 ccm fir\\r\\na=rtcp-fb:98 nack\\r\\na=rtcp-fb:98 nack pli\\r\\na=fmtp:98 profile-id=0\\r\\na=rtpmap:99 rtx/90000\\r\\na=fmtp:99 apt=98\\r\\na=rtpmap:100 VP9/90000\\r\\na=rtcp-fb:100 goog-remb\\r\\na=rtcp-fb:100 transport-cc\\r\\na=rtcp-fb:100 ccm fir\\r\\na=rtcp-fb:100 nack\\r\\na=rtcp-fb:100 nack pli\\r\\na=fmtp:100 profile-id=2\\r\\na=rtpmap:101 rtx/90000\\r\\na=fmtp:101 apt=100\\r\\na=rtpmap:123 H264/90000\\r\\na=rtcp-fb:123 goog-remb\\r\\na=rtcp-fb:123 transport-cc\\r\\na=rtcp-fb:123 ccm fir\\r\\na=rtcp-fb:123 nack\\r\\na=rtcp-fb:123 nack pli\\r\\na=fmtp:123 level-asymmetry-allowed=1;packetization-mode=1;profile-level-id=64001f\\r\\na=rtpmap:119 rtx/90000\\r\\na=fmtp:119 apt=123\\r\\na=rtpmap:114 red/90000\\r\\na=rtpmap:115 rtx/90000\\r\\na=fmtp:115 apt=114\\r\\na=rtpmap:116 ulpfec/90000\\r\\na=ssrc-group:FID 145747033 1457544488\\r\\na=ssrc:145747033 cname:OkzEVtEvSjPLksj1\\r\\na=ssrc:145747033 msid:bby7hZDljBDL1jM65HGN24erlpW5hZB3jExJ 477ed67c-f394-4561-a43d-b4d08115e90b\\r\\na=ssrc:1457544488 cname:OkzEVtEvSjPLksj1\\r\\na=ssrc:1457544488 msid:bby7hZDljBDL1jM65HGN24erlpW5hZB3jExJ 477ed67c-f394-4561-a43d-b4d08115e90b\\r\\n'}, iceServers=[{'urls': 'turn:190.92.221.222', 'username': 'admin', 'credential': '123456'}], server_desc={'sdp': 'v=0\\r\\no=- 3883102007 3883102007 IN IP4 0.0.0.0\\r\\ns=-\\r\\nt=0 0\\r\\na=group:BUNDLE 0\\r\\na=msid-semantic:WMS *\\r\\nm=video 57228 UDP/TLS/RTP/SAVPF 96 97 102 122 125 107\\r\\nc=IN IP4 192.168.0.197\\r\\na=sendrecv\\r\\na=extmap:2 http://www.webrtc.org/experiments/rtp-hdrext/abs-send-time\\r\\na=extmap:9 urn:ietf:params:rtp-hdrext:sdes:mid\\r\\na=mid:0\\r\\na=msid:c071dc7e-6301-40b5-87a4-5923e55f11de ff3afd44-bd1d-44de-8160-cd329628c26b\\r\\na=rtcp:9 IN IP4 0.0.0.0\\r\\na=rtcp-mux\\r\\na=ssrc-group:FID 2060998498 1540360284\\r\\na=ssrc:2060998498 cname:0ecec775-c3d8-42a3-a5a9-290d28d919f6\\r\\na=ssrc:1540360284 cname:0ecec775-c3d8-42a3-a5a9-290d28d919f6\\r\\na=rtpmap:96 VP8/90000\\r\\na=rtcp-fb:96 nack\\r\\na=rtcp-fb:96 nack pli\\r\\na=rtcp-fb:96 goog-remb\\r\\na=rtpmap:97 rtx/90000\\r\\na=fmtp:97 apt=96\\r\\na=rtpmap:102 H264/90000\\r\\na=rtcp-fb:102 nack\\r\\na=rtcp-fb:102 nack pli\\r\\na=rtcp-fb:102 goog-remb\\r\\na=fmtp:102 level-asymmetry-allowed=1;packetization-mode=1;profile-level-id=42001f\\r\\na=rtpmap:122 rtx/90000\\r\\na=fmtp:122 apt=102\\r\\na=rtpmap:125 H264/90000\\r\\na=rtcp-fb:125 nack\\r\\na=rtcp-fb:125 nack pli\\r\\na=rtcp-fb:125 goog-remb\\r\\na=fmtp:125 level-asymmetry-allowed=1;packetization-mode=1;profile-level-id=42e01f\\r\\na=rtpmap:107 rtx/90000\\r\\na=fmtp:107 apt=125\\r\\na=candidate:acd1f358ed07ad33dcd7833ca37ff8e3 1 udp 2130706431 192.168.0.197 57228 typ host\\r\\na=candidate:da6260576687bed6cef8e9d25d6f872d 1 udp 16777215 190.92.221.222 59969 typ relay raddr 192.168.0.197 rport 57229\\r\\na=end-of-candidates\\r\\na=ice-ufrag:x0IM\\r\\na=ice-pwd:RRwvlorpFTbxf9J02ueZS4\\r\\na=fingerprint:sha-256 41:FD:7F:7B:52:AF:EC:33:72:15:DA:0F:1B:3B:F1:8A:B7:5B:01:AD:B4:DF:42:1D:7B:63:A3:C2:D1:34:D9:94\\r\\na=setup:active\\r\\n', 'type': 'answer'}, video_codec='video/VP8', video_codecs=['video/VP8', 'video/H264 level-asymmetry-allowed=1;packetization-mode=1;profile-level-id=42001f', 'video/H264 level-asymmetry-allowed=1;packetization-mode=0;profile-level-id=42001f', 'video/H264 level-asymmetry-allowed=1;packetization-mode=1;profile-level-id=42e01f', 'video/H264 level-asymmetry-allowed=1;packetization-mode=0;profile-level-id=42e01f', 'video/H264 level-asymmetry-allowed=1;packetization-mode=1;profile-level-id=4d001f', 'video/H264 level-asymmetry-allowed=1;packetization-mode=0;profile-level-id=4d001f', 'video/AV1', 'video/VP9 profile-id=0', 'video/VP9 profile-id=2', 'video/H264 level-asymmetry-allowed=1;packetization-mode=1;profile-level-id=64001f'], video_input_device={'deviceId': '798221879d265b08da49754fb3f1db1670548e633067d0633ca7a71fcc980560', 'kind': 'videoinput', 'label': 'Chicony USB 2.0 Camera (04f2:b34c)', 'groupId': '1a32de4257a8357b2f626c929e18d4ad7b636ca8ca712208ad0a408973c4789b'}, video_input_devices=[{'deviceId': '798221879d265b08da49754fb3f1db1670548e633067d0633ca7a71fcc980560', 'kind': 'videoinput', 'label': 'Chicony USB 2.0 Camera (04f2:b34c)', 'groupId': '1a32de4257a8357b2f626c929e18d4ad7b636ca8ca712208ad0a408973c4789b'}])\n"
     ]
    }
   ],
   "source": [
    "w"
   ]
  },
  {
   "cell_type": "code",
   "execution_count": 7,
   "metadata": {},
   "outputs": [
    {
     "data": {
      "application/vnd.jupyter.widget-view+json": {
       "model_id": "e817408346664fe78917dc2505aac91e",
       "version_major": 2,
       "version_minor": 0
      },
      "text/plain": [
       "Dropdown(description='Audio input device', options=(('默认 - 麦克风 (VIA HD Audio(Win 10))', {'deviceId': 'default'…"
      ]
     },
     "metadata": {},
     "output_type": "display_data"
    }
   ],
   "source": [
    "w.audio_input_selector"
   ]
  },
  {
   "cell_type": "code",
   "execution_count": 8,
   "metadata": {},
   "outputs": [
    {
     "data": {
      "text/plain": [
       "[{'deviceId': 'default',\n",
       "  'kind': 'audioinput',\n",
       "  'label': '默认 - 麦克风 (VIA HD Audio(Win 10))',\n",
       "  'groupId': 'ba58835e0d4c7966dfec1fd3aba0d520b31ab72e8c853e8e36e8ce23e57edfa4'},\n",
       " {'deviceId': 'communications',\n",
       "  'kind': 'audioinput',\n",
       "  'label': '通讯 - 麦克风 (VIA HD Audio(Win 10))',\n",
       "  'groupId': 'ba58835e0d4c7966dfec1fd3aba0d520b31ab72e8c853e8e36e8ce23e57edfa4'},\n",
       " {'deviceId': 'd59961d05ec0043af5559a09a38f93eefcac77a6df29159191b82e62ab6cf2ea',\n",
       "  'kind': 'audioinput',\n",
       "  'label': '麦克风 (VIA HD Audio(Win 10))',\n",
       "  'groupId': 'ba58835e0d4c7966dfec1fd3aba0d520b31ab72e8c853e8e36e8ce23e57edfa4'}]"
      ]
     },
     "execution_count": 8,
     "metadata": {},
     "output_type": "execute_result"
    }
   ],
   "source": [
    "w.audio_input_devices"
   ]
  },
  {
   "cell_type": "code",
   "execution_count": 9,
   "metadata": {},
   "outputs": [
    {
     "data": {
      "text/plain": [
       "{'deviceId': 'default',\n",
       " 'kind': 'audioinput',\n",
       " 'label': '默认 - 麦克风 (VIA HD Audio(Win 10))',\n",
       " 'groupId': 'ba58835e0d4c7966dfec1fd3aba0d520b31ab72e8c853e8e36e8ce23e57edfa4'}"
      ]
     },
     "execution_count": 9,
     "metadata": {},
     "output_type": "execute_result"
    }
   ],
   "source": [
    "w.audio_input_device"
   ]
  },
  {
   "cell_type": "code",
   "execution_count": 13,
   "metadata": {},
   "outputs": [],
   "source": [
    "import cv2\n",
    "from av import VideoFrame\n",
    "async def transform(frame, ctx):\n",
    "    img = frame.to_ndarray(format=\"bgr24\")\n",
    "    # prepare color\n",
    "    img_color = cv2.pyrDown(cv2.pyrDown(img))\n",
    "    for _ in range(6):\n",
    "        img_color = cv2.bilateralFilter(img_color, 9, 9, 7)\n",
    "    img_color = cv2.pyrUp(cv2.pyrUp(img_color))\n",
    "\n",
    "    # prepare edges\n",
    "    img_edges = cv2.cvtColor(img, cv2.COLOR_RGB2GRAY)\n",
    "    img_edges = cv2.adaptiveThreshold(\n",
    "        cv2.medianBlur(img_edges, 7),\n",
    "        255,\n",
    "        cv2.ADAPTIVE_THRESH_MEAN_C,\n",
    "        cv2.THRESH_BINARY,\n",
    "        9,\n",
    "        2,\n",
    "    )\n",
    "    img_edges = cv2.cvtColor(img_edges, cv2.COLOR_GRAY2RGB)\n",
    "\n",
    "    # combine color and edges\n",
    "    img = cv2.bitwise_and(img_color, img_edges)\n",
    "\n",
    "    # rebuild a VideoFrame, preserving timing information\n",
    "    new_frame = VideoFrame.from_ndarray(img, format=\"bgr24\")\n",
    "    new_frame.pts = frame.pts\n",
    "    new_frame.time_base = frame.time_base\n",
    "    return new_frame\n",
    "\n",
    "transformer = w.add_video_transformer(transform)"
   ]
  },
  {
   "cell_type": "code",
   "execution_count": 12,
   "metadata": {},
   "outputs": [],
   "source": [
    "w.remove_video_transformer(transformer)"
   ]
  },
  {
   "cell_type": "code",
   "execution_count": null,
   "metadata": {},
   "outputs": [],
   "source": []
  }
 ],
 "metadata": {
  "kernelspec": {
   "display_name": "Python 3 (ipykernel)",
   "language": "python",
   "name": "python3"
  },
  "language_info": {
   "codemirror_mode": {
    "name": "ipython",
    "version": 3
   },
   "file_extension": ".py",
   "mimetype": "text/x-python",
   "name": "python",
   "nbconvert_exporter": "python",
   "pygments_lexer": "ipython3",
   "version": "3.10.8"
  }
 },
 "nbformat": 4,
 "nbformat_minor": 4
}
