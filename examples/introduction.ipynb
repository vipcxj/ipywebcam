{
 "cells": [
  {
   "cell_type": "markdown",
   "metadata": {},
   "source": [
    "# Introduction"
   ]
  },
  {
   "cell_type": "code",
   "execution_count": 1,
   "metadata": {},
   "outputs": [],
   "source": [
    "from ipywebcam import WebCamWidget, WebCamRecorder, Record, RecordPlayer, FileListFactory"
   ]
  },
  {
   "cell_type": "code",
   "execution_count": 2,
   "metadata": {},
   "outputs": [],
   "source": [
    "factory = FileListFactory(\"test\", \"$i4-$Y-$m-$d-$H-${M}-${S}-$f-$uh6.mp4\", condition=FileListFactory.create_frame_based_condition(100))"
   ]
  },
  {
   "cell_type": "code",
   "execution_count": 5,
   "metadata": {},
   "outputs": [
    {
     "name": "stdout",
     "output_type": "stream",
     "text": [
      "load 59 records\n"
     ]
    }
   ],
   "source": [
    "import random\n",
    "def add_random_stats(frame, record: Record, ctx):\n",
    "    record.set_statistics('test1', frame.time, random.randint(0, 30), flush=False)\n",
    "    record.set_statistics('test2', frame.time, random.randint(0, 15), flush=False)\n",
    "    record.set_statistics('test3', frame.time, random.randint(-10, 10), flush=False)\n",
    "transformer = Record.create_video_frame_transformer(add_random_stats)\n",
    "\n",
    "factory.load()\n",
    "for r in factory:\n",
    "    r.read([transformer])\n",
    "    r.set_statistics_meta_item('test1', 'y_range', [0, 30])\n",
    "    r.set_statistics_meta_item('test2', 'y_range', [-5, 20])\n",
    "    r.set_statistics_meta_item('test3', 'y_range', [-5, 20])\n",
    "factory.save()"
   ]
  },
  {
   "cell_type": "code",
   "execution_count": 3,
   "metadata": {},
   "outputs": [
    {
     "data": {
      "application/vnd.jupyter.widget-view+json": {
       "model_id": "f27a17bee4ea4fc99bd665adb0324567",
       "version_major": 2,
       "version_minor": 0
      },
      "text/plain": [
       "WebCamWidget(constraints={'video': {'frameRate': {'max': 10}, 'width': 256, 'height': 192}}, iceServers=[{'url…"
      ]
     },
     "execution_count": 3,
     "metadata": {},
     "output_type": "execute_result"
    }
   ],
   "source": [
    "w = WebCamWidget(\n",
    "    iceServers=[{\"urls\": \"turn:190.92.221.222\", \"username\": \"admin\", \"credential\": \"123456\"}],\n",
    "    constraints={\n",
    "        \"video\": {\n",
    "            \"frameRate\": { \"max\": 10 },\n",
    "            \"width\": 256,\n",
    "            \"height\": 192,\n",
    "        },\n",
    "    },\n",
    ")\n",
    "w"
   ]
  },
  {
   "cell_type": "code",
   "execution_count": 4,
   "metadata": {},
   "outputs": [],
   "source": [
    "recorder = WebCamRecorder(w, factory)\n",
    "recorder.start()"
   ]
  },
  {
   "cell_type": "code",
   "execution_count": 5,
   "metadata": {},
   "outputs": [],
   "source": [
    "import cv2\n",
    "from av import VideoFrame\n",
    "async def transform(frame, ctx):\n",
    "    img = frame.to_ndarray(format=\"bgr24\")\n",
    "    # prepare color\n",
    "    img_color = cv2.pyrDown(cv2.pyrDown(img))\n",
    "    for _ in range(6):\n",
    "        img_color = cv2.bilateralFilter(img_color, 9, 9, 7)\n",
    "    img_color = cv2.pyrUp(cv2.pyrUp(img_color))\n",
    "\n",
    "    # prepare edges\n",
    "    img_edges = cv2.cvtColor(img, cv2.COLOR_RGB2GRAY)\n",
    "    img_edges = cv2.adaptiveThreshold(\n",
    "        cv2.medianBlur(img_edges, 7),\n",
    "        255,\n",
    "        cv2.ADAPTIVE_THRESH_MEAN_C,\n",
    "        cv2.THRESH_BINARY,\n",
    "        9,\n",
    "        2,\n",
    "    )\n",
    "    img_edges = cv2.cvtColor(img_edges, cv2.COLOR_GRAY2RGB)\n",
    "\n",
    "    # combine color and edges\n",
    "    img = cv2.bitwise_and(img_color, img_edges)\n",
    "\n",
    "    # rebuild a VideoFrame, preserving timing information\n",
    "    new_frame = VideoFrame.from_ndarray(img, format=\"bgr24\")\n",
    "    # new_frame.pts = frame.pts\n",
    "    # new_frame.time_base = frame.time_base\n",
    "    return new_frame\n",
    "\n",
    "transformer = w.add_video_transformer(transform)"
   ]
  },
  {
   "cell_type": "code",
   "execution_count": 6,
   "metadata": {},
   "outputs": [],
   "source": [
    "w.remove_video_transformer(transformer)"
   ]
  },
  {
   "cell_type": "code",
   "execution_count": 7,
   "metadata": {},
   "outputs": [],
   "source": [
    "recorder.stop()"
   ]
  },
  {
   "cell_type": "code",
   "execution_count": 8,
   "metadata": {},
   "outputs": [],
   "source": [
    "w.close_peers()"
   ]
  },
  {
   "cell_type": "code",
   "execution_count": 3,
   "metadata": {},
   "outputs": [
    {
     "name": "stdout",
     "output_type": "stream",
     "text": [
      "load 59 records\n",
      "59\n"
     ]
    }
   ],
   "source": [
    "import logging\n",
    "import cv2\n",
    "from av import VideoFrame\n",
    "logger = logging.getLogger('ipywebcam')\n",
    "recorder = WebCamRecorder(None, factory)\n",
    "recorder.factory.load()\n",
    "print(recorder.factory.record_count())\n",
    "player = RecordPlayer(recorder=recorder)\n",
    "player.loop = True\n",
    "def fix_time(frame, record, context):\n",
    "    if \"inited\" not in context:\n",
    "        context[\"inited\"] = True\n",
    "        if frame.pts > 0:\n",
    "            offset = context[\"offset\"] = frame.pts\n",
    "        else:\n",
    "            offset = 0\n",
    "    else:\n",
    "        offset = context.get(\"offset\")\n",
    "        offset = 0 if offset is None else offset\n",
    "    if offset > 0:\n",
    "        pass\n",
    "        frame.pts -= offset\n",
    "    return frame\n",
    "#player.add_video_transformer(fix_time)\n",
    "\n",
    "def transform(frame, r, ctx):\n",
    "    iter = ctx.get('iter')\n",
    "    if iter:\n",
    "        iter = ctx[\"iter\"] = iter + 1\n",
    "    else:\n",
    "        iter = ctx[\"iter\"] = 0\n",
    "    if iter % 10:\n",
    "        print(iter)\n",
    "    img = frame.to_ndarray(format=\"bgr24\")\n",
    "    # prepare color\n",
    "    img_color = cv2.pyrDown(cv2.pyrDown(img))\n",
    "    for _ in range(6):\n",
    "        img_color = cv2.bilateralFilter(img_color, 9, 9, 7)\n",
    "    img_color = cv2.pyrUp(cv2.pyrUp(img_color))\n",
    "\n",
    "    # prepare edges\n",
    "    img_edges = cv2.cvtColor(img, cv2.COLOR_RGB2GRAY)\n",
    "    img_edges = cv2.adaptiveThreshold(\n",
    "        cv2.medianBlur(img_edges, 7),\n",
    "        255,\n",
    "        cv2.ADAPTIVE_THRESH_MEAN_C,\n",
    "        cv2.THRESH_BINARY,\n",
    "        9,\n",
    "        2,\n",
    "    )\n",
    "    img_edges = cv2.cvtColor(img_edges, cv2.COLOR_GRAY2RGB)\n",
    "\n",
    "    # combine color and edges\n",
    "    img = cv2.bitwise_and(img_color, img_edges)\n",
    "\n",
    "    # rebuild a VideoFrame, preserving timing information\n",
    "    new_frame = VideoFrame.from_ndarray(img, format=\"bgr24\")\n",
    "    # new_frame.pts = frame.pts\n",
    "    # new_frame.time_base = frame.time_base\n",
    "    return new_frame\n",
    "\n",
    "transformer = player.add_video_transformer(transform, 'test')"
   ]
  },
  {
   "cell_type": "code",
   "execution_count": 6,
   "metadata": {},
   "outputs": [],
   "source": [
    "recorder.factory.save()"
   ]
  },
  {
   "cell_type": "code",
   "execution_count": 4,
   "metadata": {
    "tags": []
   },
   "outputs": [
    {
     "data": {
      "application/vnd.jupyter.widget-view+json": {
       "model_id": "dbfcaab0e93f4e6a9706e8b032810bf6",
       "version_major": 2,
       "version_minor": 0
      },
      "text/plain": [
       "RecordPlayer(loop=True, selected_range=[0.0, 0.0])"
      ]
     },
     "execution_count": 4,
     "metadata": {},
     "output_type": "execute_result"
    }
   ],
   "source": [
    "player"
   ]
  },
  {
   "cell_type": "code",
   "execution_count": 6,
   "metadata": {},
   "outputs": [
    {
     "data": {
      "text/plain": [
       "[4.0, 7.0]"
      ]
     },
     "execution_count": 6,
     "metadata": {},
     "output_type": "execute_result"
    }
   ],
   "source": [
    "player.selected_range"
   ]
  },
  {
   "cell_type": "code",
   "execution_count": 8,
   "metadata": {},
   "outputs": [
    {
     "name": "stdout",
     "output_type": "stream",
     "text": [
      "{'a': 1, 'b': 2}\n",
      "{'a': 1}\n"
     ]
    }
   ],
   "source": [
    "a = { \"a\":1, \"b\":2}\n",
    "print(a)\n",
    "del a[\"b\"]\n",
    "print(a)"
   ]
  },
  {
   "cell_type": "code",
   "execution_count": 11,
   "metadata": {},
   "outputs": [
    {
     "name": "stdout",
     "output_type": "stream",
     "text": [
      "\\a\\b\\c\n",
      "\\a\\b\\c\n",
      "..\\b\\c\n"
     ]
    }
   ],
   "source": [
    "from os import path\n",
    "print(path.normpath('\\\\a\\\\b\\\\c'))\n",
    "print(path.normpath('/a/b/c'))\n",
    "p = path.relpath(path.normpath('a/b/c'), path.normpath('a/d'))\n",
    "print(p)"
   ]
  },
  {
   "cell_type": "code",
   "execution_count": 5,
   "metadata": {},
   "outputs": [
    {
     "name": "stdout",
     "output_type": "stream",
     "text": [
      "2\n"
     ]
    }
   ],
   "source": [
    "print(1 if {} else 2)"
   ]
  },
  {
   "cell_type": "code",
   "execution_count": null,
   "metadata": {},
   "outputs": [],
   "source": []
  }
 ],
 "metadata": {
  "kernelspec": {
   "display_name": "Python 3 (ipykernel)",
   "language": "python",
   "name": "python3"
  },
  "language_info": {
   "codemirror_mode": {
    "name": "ipython",
    "version": 3
   },
   "file_extension": ".py",
   "mimetype": "text/x-python",
   "name": "python",
   "nbconvert_exporter": "python",
   "pygments_lexer": "ipython3",
   "version": "3.10.8"
  }
 },
 "nbformat": 4,
 "nbformat_minor": 4
}
